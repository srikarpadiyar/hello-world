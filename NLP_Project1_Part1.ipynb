{
  "nbformat": 4,
  "nbformat_minor": 0,
  "metadata": {
    "colab": {
      "name": "NLP-Project1-Part1.ipynb",
      "provenance": [],
      "collapsed_sections": [],
      "authorship_tag": "ABX9TyPQNahuqxW+9MVRL5kwrXMM",
      "include_colab_link": true
    },
    "kernelspec": {
      "display_name": "Python 3",
      "name": "python3"
    },
    "language_info": {
      "name": "python"
    },
    "accelerator": "TPU"
  },
  "cells": [
    {
      "cell_type": "markdown",
      "metadata": {
        "id": "view-in-github",
        "colab_type": "text"
      },
      "source": [
        "<a href=\"https://colab.research.google.com/github/srikarpadiyar/hello-world/blob/main/NLP_Project1_Part1.ipynb\" target=\"_parent\"><img src=\"https://colab.research.google.com/assets/colab-badge.svg\" alt=\"Open In Colab\"/></a>"
      ]
    },
    {
      "cell_type": "code",
      "metadata": {
        "colab": {
          "base_uri": "https://localhost:8080/"
        },
        "id": "cTUBO5oJ0nOY",
        "outputId": "dba4a3d1-29c4-461e-9b49-771258288bb0"
      },
      "source": [
        "\n",
        "import numpy as np\n",
        "import re, string\n",
        "import seaborn as sns\n",
        "import matplotlib.pyplot as plt\n",
        "\n",
        "\n",
        "#for text pre-processing\n",
        "import re, string\n",
        "import nltk\n",
        "from nltk.tokenize import RegexpTokenizer\n",
        "from nltk.tokenize import word_tokenize\n",
        "from nltk.corpus import stopwords\n",
        "from nltk.tokenize import word_tokenize\n",
        "from nltk.stem import SnowballStemmer\n",
        "from nltk.corpus import wordnet\n",
        "from nltk.stem import WordNetLemmatizer\n",
        "\n",
        "nltk.download('stopwords')\n",
        "\n",
        "from nltk.corpus import stopwords\n",
        "\n",
        "\n"
      ],
      "execution_count": 2,
      "outputs": [
        {
          "output_type": "stream",
          "name": "stdout",
          "text": [
            "[nltk_data] Downloading package stopwords to /root/nltk_data...\n",
            "[nltk_data]   Unzipping corpora/stopwords.zip.\n"
          ]
        }
      ]
    },
    {
      "cell_type": "code",
      "metadata": {
        "colab": {
          "base_uri": "https://localhost:8080/"
        },
        "id": "abLS8OaA7Dnj",
        "outputId": "f04e5d5e-0aa7-4da2-8df4-99ef74425174"
      },
      "source": [
        "nltk.download('punkt')\n",
        "nltk.download('averaged_perceptron_tagger')\n",
        "nltk.download('wordnet')"
      ],
      "execution_count": 3,
      "outputs": [
        {
          "output_type": "stream",
          "name": "stdout",
          "text": [
            "[nltk_data] Downloading package punkt to /root/nltk_data...\n",
            "[nltk_data]   Unzipping tokenizers/punkt.zip.\n",
            "[nltk_data] Downloading package averaged_perceptron_tagger to\n",
            "[nltk_data]     /root/nltk_data...\n",
            "[nltk_data]   Unzipping taggers/averaged_perceptron_tagger.zip.\n",
            "[nltk_data] Downloading package wordnet to /root/nltk_data...\n",
            "[nltk_data]   Unzipping corpora/wordnet.zip.\n"
          ]
        },
        {
          "output_type": "execute_result",
          "data": {
            "text/plain": [
              "True"
            ]
          },
          "metadata": {},
          "execution_count": 3
        }
      ]
    },
    {
      "cell_type": "code",
      "metadata": {
        "id": "U1DBRCmU7EYB"
      },
      "source": [
        "#for model-building\n",
        "from sklearn.model_selection import train_test_split\n",
        "from sklearn.linear_model import LogisticRegression\n",
        "from sklearn.naive_bayes import MultinomialNB\n",
        "from sklearn.metrics import classification_report, f1_score, accuracy_score, confusion_matrix\n",
        "from sklearn.metrics import roc_curve, auc, roc_auc_score\n",
        "# bag of words\n",
        "from sklearn.feature_extraction.text import TfidfVectorizer\n",
        "from sklearn.feature_extraction.text import CountVectorizer\n",
        "#for word embedding\n",
        "import gensim\n",
        "from gensim.models import Word2Vec"
      ],
      "execution_count": 4,
      "outputs": []
    },
    {
      "cell_type": "code",
      "metadata": {
        "colab": {
          "base_uri": "https://localhost:8080/"
        },
        "id": "kAMnNyF14NtT",
        "outputId": "596e7f91-2b3e-416c-887b-6b2de18cb8ff"
      },
      "source": [
        "# from google.colab import files\n",
        "# uploaded = files.upload()\n",
        "\n",
        "from google.colab import drive\n",
        "drive.mount('/content/drive')"
      ],
      "execution_count": 5,
      "outputs": [
        {
          "output_type": "stream",
          "name": "stdout",
          "text": [
            "Mounted at /content/drive\n"
          ]
        }
      ]
    },
    {
      "cell_type": "code",
      "metadata": {
        "colab": {
          "base_uri": "https://localhost:8080/",
          "height": 206
        },
        "id": "eGQMBaqtee2o",
        "outputId": "7067ede0-d177-4647-c5e6-62df68e98219"
      },
      "source": [
        "import pandas as pd\n",
        "df = pd.read_csv('/content/drive/MyDrive/Colab Notebooks/NLP/blogtext.csv')\n",
        "df.head()"
      ],
      "execution_count": 6,
      "outputs": [
        {
          "output_type": "execute_result",
          "data": {
            "text/html": [
              "<div>\n",
              "<style scoped>\n",
              "    .dataframe tbody tr th:only-of-type {\n",
              "        vertical-align: middle;\n",
              "    }\n",
              "\n",
              "    .dataframe tbody tr th {\n",
              "        vertical-align: top;\n",
              "    }\n",
              "\n",
              "    .dataframe thead th {\n",
              "        text-align: right;\n",
              "    }\n",
              "</style>\n",
              "<table border=\"1\" class=\"dataframe\">\n",
              "  <thead>\n",
              "    <tr style=\"text-align: right;\">\n",
              "      <th></th>\n",
              "      <th>id</th>\n",
              "      <th>gender</th>\n",
              "      <th>age</th>\n",
              "      <th>topic</th>\n",
              "      <th>sign</th>\n",
              "      <th>date</th>\n",
              "      <th>text</th>\n",
              "    </tr>\n",
              "  </thead>\n",
              "  <tbody>\n",
              "    <tr>\n",
              "      <th>0</th>\n",
              "      <td>2059027</td>\n",
              "      <td>male</td>\n",
              "      <td>15</td>\n",
              "      <td>Student</td>\n",
              "      <td>Leo</td>\n",
              "      <td>14,May,2004</td>\n",
              "      <td>Info has been found (+/- 100 pages,...</td>\n",
              "    </tr>\n",
              "    <tr>\n",
              "      <th>1</th>\n",
              "      <td>2059027</td>\n",
              "      <td>male</td>\n",
              "      <td>15</td>\n",
              "      <td>Student</td>\n",
              "      <td>Leo</td>\n",
              "      <td>13,May,2004</td>\n",
              "      <td>These are the team members:   Drewe...</td>\n",
              "    </tr>\n",
              "    <tr>\n",
              "      <th>2</th>\n",
              "      <td>2059027</td>\n",
              "      <td>male</td>\n",
              "      <td>15</td>\n",
              "      <td>Student</td>\n",
              "      <td>Leo</td>\n",
              "      <td>12,May,2004</td>\n",
              "      <td>In het kader van kernfusie op aarde...</td>\n",
              "    </tr>\n",
              "    <tr>\n",
              "      <th>3</th>\n",
              "      <td>2059027</td>\n",
              "      <td>male</td>\n",
              "      <td>15</td>\n",
              "      <td>Student</td>\n",
              "      <td>Leo</td>\n",
              "      <td>12,May,2004</td>\n",
              "      <td>testing!!!  testing!!!</td>\n",
              "    </tr>\n",
              "    <tr>\n",
              "      <th>4</th>\n",
              "      <td>3581210</td>\n",
              "      <td>male</td>\n",
              "      <td>33</td>\n",
              "      <td>InvestmentBanking</td>\n",
              "      <td>Aquarius</td>\n",
              "      <td>11,June,2004</td>\n",
              "      <td>Thanks to Yahoo!'s Toolbar I can ...</td>\n",
              "    </tr>\n",
              "  </tbody>\n",
              "</table>\n",
              "</div>"
            ],
            "text/plain": [
              "        id  ...                                               text\n",
              "0  2059027  ...             Info has been found (+/- 100 pages,...\n",
              "1  2059027  ...             These are the team members:   Drewe...\n",
              "2  2059027  ...             In het kader van kernfusie op aarde...\n",
              "3  2059027  ...                   testing!!!  testing!!!          \n",
              "4  3581210  ...               Thanks to Yahoo!'s Toolbar I can ...\n",
              "\n",
              "[5 rows x 7 columns]"
            ]
          },
          "metadata": {},
          "execution_count": 6
        }
      ]
    },
    {
      "cell_type": "code",
      "metadata": {
        "colab": {
          "base_uri": "https://localhost:8080/"
        },
        "id": "22z6ASjQ1bfS",
        "outputId": "931c4ecf-9f9b-4efd-bbe2-9097030ecedd"
      },
      "source": [
        "df['topic'].unique()"
      ],
      "execution_count": 7,
      "outputs": [
        {
          "output_type": "execute_result",
          "data": {
            "text/plain": [
              "array(['Student', 'InvestmentBanking', 'indUnk', 'Non-Profit', 'Banking',\n",
              "       'Education', 'Engineering', 'Science', 'Communications-Media',\n",
              "       'BusinessServices', 'Sports-Recreation', 'Arts', 'Internet',\n",
              "       'Museums-Libraries', 'Accounting', 'Technology', 'Law',\n",
              "       'Consulting', 'Automotive', 'Religion', 'Fashion', 'Publishing',\n",
              "       'Marketing', 'LawEnforcement-Security', 'HumanResources',\n",
              "       'Telecommunications', 'Military', 'Government', 'Transportation',\n",
              "       'Architecture', 'Advertising', 'Agriculture', 'Biotech',\n",
              "       'RealEstate', 'Manufacturing', 'Construction', 'Chemicals',\n",
              "       'Maritime', 'Tourism', 'Environment'], dtype=object)"
            ]
          },
          "metadata": {},
          "execution_count": 7
        }
      ]
    },
    {
      "cell_type": "code",
      "metadata": {
        "colab": {
          "base_uri": "https://localhost:8080/",
          "height": 1000
        },
        "id": "9nnDgyCm1jC0",
        "outputId": "81becbc1-ab0e-49da-ee25-7f891c946e48"
      },
      "source": [
        "topics=df['topic'].value_counts()\n",
        "print(topics)\n",
        "f, ax = plt.subplots(figsize=(6, 15))\n",
        "sns.barplot(topics, topics.index, orient = 'h')"
      ],
      "execution_count": 8,
      "outputs": [
        {
          "output_type": "stream",
          "name": "stdout",
          "text": [
            "indUnk                     251015\n",
            "Student                    153903\n",
            "Technology                  42055\n",
            "Arts                        32449\n",
            "Education                   29633\n",
            "Communications-Media        20140\n",
            "Internet                    16006\n",
            "Non-Profit                  14700\n",
            "Engineering                 11653\n",
            "Law                          9040\n",
            "Publishing                   7753\n",
            "Science                      7269\n",
            "Government                   6907\n",
            "Consulting                   5862\n",
            "Religion                     5235\n",
            "Fashion                      4851\n",
            "Marketing                    4769\n",
            "Advertising                  4676\n",
            "BusinessServices             4500\n",
            "Banking                      4049\n",
            "Chemicals                    3928\n",
            "Telecommunications           3891\n",
            "Accounting                   3832\n",
            "Military                     3128\n",
            "Museums-Libraries            3096\n",
            "Sports-Recreation            3038\n",
            "HumanResources               3010\n",
            "RealEstate                   2870\n",
            "Transportation               2326\n",
            "Manufacturing                2272\n",
            "Biotech                      2234\n",
            "Tourism                      1942\n",
            "LawEnforcement-Security      1878\n",
            "Architecture                 1638\n",
            "InvestmentBanking            1292\n",
            "Automotive                   1244\n",
            "Agriculture                  1235\n",
            "Construction                 1093\n",
            "Environment                   592\n",
            "Maritime                      280\n",
            "Name: topic, dtype: int64\n"
          ]
        },
        {
          "output_type": "stream",
          "name": "stderr",
          "text": [
            "/usr/local/lib/python3.7/dist-packages/seaborn/_decorators.py:43: FutureWarning: Pass the following variables as keyword args: x, y. From version 0.12, the only valid positional argument will be `data`, and passing other arguments without an explicit keyword will result in an error or misinterpretation.\n",
            "  FutureWarning\n"
          ]
        },
        {
          "output_type": "execute_result",
          "data": {
            "text/plain": [
              "<matplotlib.axes._subplots.AxesSubplot at 0x7fdf48dae910>"
            ]
          },
          "metadata": {},
          "execution_count": 8
        },
        {
          "output_type": "display_data",
          "data": {
            "image/png": "[encoded data removed]",
            "text/plain": [
              "<Figure size 432x1080 with 1 Axes>"
            ]
          },
          "metadata": {
            "needs_background": "light"
          }
        }
      ]
    },
    {
      "cell_type": "code",
      "metadata": {
        "colab": {
          "base_uri": "https://localhost:8080/"
        },
        "id": "IcLjngPAZIUn",
        "outputId": "e3ad249e-0ee9-4e97-ac35-0a60619b77e5"
      },
      "source": [
        "df['topic'].isna().sum()"
      ],
      "execution_count": 9,
      "outputs": [
        {
          "output_type": "execute_result",
          "data": {
            "text/plain": [
              "0"
            ]
          },
          "metadata": {},
          "execution_count": 9
        }
      ]
    },
    {
      "cell_type": "code",
      "metadata": {
        "colab": {
          "base_uri": "https://localhost:8080/"
        },
        "id": "vND3t11CbGiE",
        "outputId": "e19a59b6-aadf-4b36-a48f-774b857fc027"
      },
      "source": [
        "df['text'].isna().sum()"
      ],
      "execution_count": 10,
      "outputs": [
        {
          "output_type": "execute_result",
          "data": {
            "text/plain": [
              "0"
            ]
          },
          "metadata": {},
          "execution_count": 10
        }
      ]
    },
    {
      "cell_type": "code",
      "metadata": {
        "id": "91C4yCE-bMS8"
      },
      "source": [
        "# removing punctuations, converting to lower case \n",
        "def preprocess(text):\n",
        "    text = text.lower() \n",
        "    text=text.strip()  \n",
        "    text=re.compile('<.*?>').sub('', text) \n",
        "    text = re.compile('[%s]' % re.escape(string.punctuation)).sub(' ', text)  \n",
        "    text = re.sub('\\s+', ' ', text)  \n",
        "    text = re.sub(r'\\[[0-9]*\\]',' ',text) \n",
        "    text=re.sub(r'[^\\w\\s]', '', str(text).lower().strip())\n",
        "    text = re.sub(r'\\d',' ',text) \n",
        "    text = re.sub(r'\\s+',' ',text) \n",
        "    return text\n",
        "\n"
      ],
      "execution_count": 11,
      "outputs": []
    },
    {
      "cell_type": "code",
      "metadata": {
        "id": "LaVtYaBU6M5E"
      },
      "source": [
        " \n",
        "# remove stopwords\n",
        "def stopword(string):\n",
        "    a= [i for i in string.split() if i not in stopwords.words('english')]\n",
        "    return ' '.join(a)"
      ],
      "execution_count": 12,
      "outputs": []
    },
    {
      "cell_type": "code",
      "metadata": {
        "id": "SgHj8X1g6PAy"
      },
      "source": [
        "# lemmatizer\n",
        "wl = WordNetLemmatizer()\n",
        " \n",
        "# map NTLK position tags\n",
        "def get_wordnet_pos(tag):\n",
        "    if tag.startswith('J'):\n",
        "        return wordnet.ADJ\n",
        "    elif tag.startswith('V'):\n",
        "        return wordnet.VERB\n",
        "    elif tag.startswith('N'):\n",
        "        return wordnet.NOUN\n",
        "    elif tag.startswith('R'):\n",
        "        return wordnet.ADV\n",
        "    else:\n",
        "        return wordnet.NOUN\n",
        "\n",
        "# Tokenize sentences\n",
        "def lemmatizer(string):\n",
        "    word_pos_tags = nltk.pos_tag(word_tokenize(string)) \n",
        "    a=[wl.lemmatize(tag[0], get_wordnet_pos(tag[1])) for idx, tag in enumerate(word_pos_tags)] \n",
        "    return \" \".join(a)"
      ],
      "execution_count": 13,
      "outputs": []
    },
    {
      "cell_type": "code",
      "metadata": {
        "id": "cRY-08M37os2"
      },
      "source": [
        "def finalpreprocess1(string):\n",
        "    # return lemmatizer(stopword(preprocess(string)))\n",
        "    return preprocess(string)\n",
        "\n"
      ],
      "execution_count": 14,
      "outputs": []
    },
    {
      "cell_type": "code",
      "metadata": {
        "id": "nKcv549kpXUE"
      },
      "source": [
        "def finalpreprocess2(string):\n",
        "    # return lemmatizer(stopword(preprocess(string)))\n",
        "    return stopword(string)\n"
      ],
      "execution_count": 15,
      "outputs": []
    },
    {
      "cell_type": "code",
      "metadata": {
        "id": "trq9ZvSCpfpY"
      },
      "source": [
        "def finalpreprocess3(string):\n",
        "    # return lemmatizer(stopword(preprocess(string)))\n",
        "    return lemmatizer(string)"
      ],
      "execution_count": 16,
      "outputs": []
    },
    {
      "cell_type": "code",
      "metadata": {
        "colab": {
          "base_uri": "https://localhost:8080/",
          "height": 275
        },
        "id": "VSHZ9lASmk-b",
        "outputId": "e04a260b-40f5-41bc-fb90-14a33ee00f0a"
      },
      "source": [
        "df['clean_text'] = df['text'].apply(lambda x: finalpreprocess1(x))\n",
        "df.head()"
      ],
      "execution_count": 17,
      "outputs": [
        {
          "output_type": "execute_result",
          "data": {
            "text/html": [
              "<div>\n",
              "<style scoped>\n",
              "    .dataframe tbody tr th:only-of-type {\n",
              "        vertical-align: middle;\n",
              "    }\n",
              "\n",
              "    .dataframe tbody tr th {\n",
              "        vertical-align: top;\n",
              "    }\n",
              "\n",
              "    .dataframe thead th {\n",
              "        text-align: right;\n",
              "    }\n",
              "</style>\n",
              "<table border=\"1\" class=\"dataframe\">\n",
              "  <thead>\n",
              "    <tr style=\"text-align: right;\">\n",
              "      <th></th>\n",
              "      <th>id</th>\n",
              "      <th>gender</th>\n",
              "      <th>age</th>\n",
              "      <th>topic</th>\n",
              "      <th>sign</th>\n",
              "      <th>date</th>\n",
              "      <th>text</th>\n",
              "      <th>clean_text</th>\n",
              "    </tr>\n",
              "  </thead>\n",
              "  <tbody>\n",
              "    <tr>\n",
              "      <th>0</th>\n",
              "      <td>2059027</td>\n",
              "      <td>male</td>\n",
              "      <td>15</td>\n",
              "      <td>Student</td>\n",
              "      <td>Leo</td>\n",
              "      <td>14,May,2004</td>\n",
              "      <td>Info has been found (+/- 100 pages,...</td>\n",
              "      <td>info has been found pages and mb of pdf files ...</td>\n",
              "    </tr>\n",
              "    <tr>\n",
              "      <th>1</th>\n",
              "      <td>2059027</td>\n",
              "      <td>male</td>\n",
              "      <td>15</td>\n",
              "      <td>Student</td>\n",
              "      <td>Leo</td>\n",
              "      <td>13,May,2004</td>\n",
              "      <td>These are the team members:   Drewe...</td>\n",
              "      <td>these are the team members drewes van der laag...</td>\n",
              "    </tr>\n",
              "    <tr>\n",
              "      <th>2</th>\n",
              "      <td>2059027</td>\n",
              "      <td>male</td>\n",
              "      <td>15</td>\n",
              "      <td>Student</td>\n",
              "      <td>Leo</td>\n",
              "      <td>12,May,2004</td>\n",
              "      <td>In het kader van kernfusie op aarde...</td>\n",
              "      <td>in het kader van kernfusie op aarde maak je ei...</td>\n",
              "    </tr>\n",
              "    <tr>\n",
              "      <th>3</th>\n",
              "      <td>2059027</td>\n",
              "      <td>male</td>\n",
              "      <td>15</td>\n",
              "      <td>Student</td>\n",
              "      <td>Leo</td>\n",
              "      <td>12,May,2004</td>\n",
              "      <td>testing!!!  testing!!!</td>\n",
              "      <td>testing testing</td>\n",
              "    </tr>\n",
              "    <tr>\n",
              "      <th>4</th>\n",
              "      <td>3581210</td>\n",
              "      <td>male</td>\n",
              "      <td>33</td>\n",
              "      <td>InvestmentBanking</td>\n",
              "      <td>Aquarius</td>\n",
              "      <td>11,June,2004</td>\n",
              "      <td>Thanks to Yahoo!'s Toolbar I can ...</td>\n",
              "      <td>thanks to yahoo s toolbar i can now capture th...</td>\n",
              "    </tr>\n",
              "  </tbody>\n",
              "</table>\n",
              "</div>"
            ],
            "text/plain": [
              "        id  ...                                         clean_text\n",
              "0  2059027  ...  info has been found pages and mb of pdf files ...\n",
              "1  2059027  ...  these are the team members drewes van der laag...\n",
              "2  2059027  ...  in het kader van kernfusie op aarde maak je ei...\n",
              "3  2059027  ...                                    testing testing\n",
              "4  3581210  ...  thanks to yahoo s toolbar i can now capture th...\n",
              "\n",
              "[5 rows x 8 columns]"
            ]
          },
          "metadata": {},
          "execution_count": 17
        }
      ]
    },
    {
      "cell_type": "code",
      "metadata": {
        "id": "K5MMxjrkpnsI"
      },
      "source": [
        "df['clean_text'] = df['clean_text'].apply(lambda x: finalpreprocess2(x))"
      ],
      "execution_count": null,
      "outputs": []
    },
    {
      "cell_type": "code",
      "metadata": {
        "colab": {
          "background_save": true
        },
        "id": "Mg27PDpS75kF"
      },
      "source": [
        "df['clean_text'] = df['clean_text'].apply(lambda x: finalpreprocess3(x))"
      ],
      "execution_count": null,
      "outputs": []
    },
    {
      "cell_type": "code",
      "metadata": {
        "id": "cWGHBhjypsfj"
      },
      "source": [
        ""
      ],
      "execution_count": null,
      "outputs": []
    },
    {
      "cell_type": "code",
      "metadata": {
        "colab": {
          "base_uri": "https://localhost:8080/",
          "height": 192
        },
        "id": "3zOuS7upfl5k",
        "outputId": "4f77da0f-8265-4659-8d7e-01bee3fa6f41"
      },
      "source": [
        "df['text'][5]"
      ],
      "execution_count": 18,
      "outputs": [
        {
          "output_type": "execute_result",
          "data": {
            "application/vnd.google.colaboratory.intrinsic+json": {
              "type": "string"
            },
            "text/plain": [
              "\"             I had an interesting conversation with my Dad this morning.  We were talking about where Koreans put their money.  Invariably, they have a lot of real estate and cash.  (Cash would include short term investments under one year as well as savings accounts.)  The reason?  Real estate makes money here.  A lot of money.  I've seen surveys of Seoul real estate rising about 10-15% PER YEAR for long stretches, even after taking into account the 1997 Crisis (referred to as the IMF crisis here, although it was the IMF that bailed Korea out).  Compare that to Korean corporate bonds which fell 90-99% in 1997 and only modestly recovered, and a local stock market (represented by KOSPI, or their version of the Dow Jones Index) that has not gone appreciably above its 1980s high of 1,000 points (it is now about 800 points, see  urlLink link ) and you can see why real estate makes sense here.  But back to the conversation...I noted that here a 'real big' or 'elite' real estate investor has over 6 billion won (about USD 5,000,000, see  urlLink converter ) in properties.  Dad seemed a little flabbergasted.  'What the heck do they need 5 million dollars for?  They don't need that much to retire.'  Maybe so, but there is a lot of risk here too.  Take real estate (or any other South Korean asset) for example: if the North toots their horn louder or make a move on the country that 5,000,000 USD is worth about 5 cents.  Also, all of it is denominated in won which, during the 'IMF Crisis', dropped about 50% vis-a-vis the USD. Also, if you make a bad investment or some fall victim to a scam--the latest here was the  urlLink Good Morning City  project--you're toast.  I saw a lady on TV who lost everything in it.  Her comment (between the tears): 'Now I know what it's like to go from a rich person to a beggar in one day.'  If you have one of those, some saber-rattling from North Korea and a weak exchange rate your little nest egg could be almost wiped out.  The government has almost zero help for unemployed, disabled or otherwise disenfranchised workers.  The role of family is more important here...so if you have money you should help your family, and if you don't then you should go to them first.  Thus the idea that more is more.  Koreans go all out in most things they do, and investing is no different.  Why have one apartment when you can have 7?  The  urlLink jeonse  system supports this as well.  You see, if you have a 400,000 USD apartment and you rent it out there are two systems you can use in Korea (neither of which are the Western ones, except in rare circumstances).  1.  Renter signs a 2-year contract and deposits about half the market value (200,000 USD) with the owner.  No monthly rent is paid, but the owner can invest in Korean Treasury Bills for about 4-5% per year.  That's a monthly rent/return of $750.  At the end of the term the 200,000 USD is returned to the renter.  2.  Renter signs a 1-year or 2-year contract and deposits about 10%-20% of the market value of the property (10,000-20,000 USD) plus some monthly rent of $400-$600 a month.  In both cases, if the value of the property increases or decreases the jeonse will need to be topped-up or partially refunded.  (Of course I'm using USD in this to save my '0' key and to help 'foreigners' reference it better.)  Thus, if you buy a place for $400,000 you can turn around and rent it out and get $200,000 to (if you like) buy another place or whatever.  Since there are very, very few mortgages in Korea (kind of a cash society, although there are home-equity lines of credit) the system here is a bit different.  The key, of course, is that real estate prices keep going up.         \""
            ]
          },
          "metadata": {},
          "execution_count": 18
        }
      ]
    },
    {
      "cell_type": "code",
      "metadata": {
        "id": "6dfo6kPtm6mH",
        "colab": {
          "base_uri": "https://localhost:8080/",
          "height": 192
        },
        "outputId": "b19f37ed-b5c5-4e4d-b261-02838f44ab35"
      },
      "source": [
        "df['clean_text'][5]"
      ],
      "execution_count": 19,
      "outputs": [
        {
          "output_type": "execute_result",
          "data": {
            "application/vnd.google.colaboratory.intrinsic+json": {
              "type": "string"
            },
            "text/plain": [
              "'i had an interesting conversation with my dad this morning we were talking about where koreans put their money invariably they have a lot of real estate and cash cash would include short term investments under one year as well as savings accounts the reason real estate makes money here a lot of money i ve seen surveys of seoul real estate rising about per year for long stretches even after taking into account the crisis referred to as the imf crisis here although it was the imf that bailed korea out compare that to korean corporate bonds which fell in and only modestly recovered and a local stock market represented by kospi or their version of the dow jones index that has not gone appreciably above its s high of points it is now about points see urllink link and you can see why real estate makes sense here but back to the conversation i noted that here a real big or elite real estate investor has over billion won about usd see urllink converter in properties dad seemed a little flabbergasted what the heck do they need million dollars for they don t need that much to retire maybe so but there is a lot of risk here too take real estate or any other south korean asset for example if the north toots their horn louder or make a move on the country that usd is worth about cents also all of it is denominated in won which during the imf crisis dropped about vis a vis the usd also if you make a bad investment or some fall victim to a scam the latest here was the urllink good morning city project you re toast i saw a lady on tv who lost everything in it her comment between the tears now i know what it s like to go from a rich person to a beggar in one day if you have one of those some saber rattling from north korea and a weak exchange rate your little nest egg could be almost wiped out the government has almost zero help for unemployed disabled or otherwise disenfranchised workers the role of family is more important here so if you have money you should help your family and if you don t then you should go to them first thus the idea that more is more koreans go all out in most things they do and investing is no different why have one apartment when you can have the urllink jeonse system supports this as well you see if you have a usd apartment and you rent it out there are two systems you can use in korea neither of which are the western ones except in rare circumstances renter signs a year contract and deposits about half the market value usd with the owner no monthly rent is paid but the owner can invest in korean treasury bills for about per year that s a monthly rent return of at the end of the term the usd is returned to the renter renter signs a year or year contract and deposits about of the market value of the property usd plus some monthly rent of a month in both cases if the value of the property increases or decreases the jeonse will need to be topped up or partially refunded of course i m using usd in this to save my key and to help foreigners reference it better thus if you buy a place for you can turn around and rent it out and get to if you like buy another place or whatever since there are very very few mortgages in korea kind of a cash society although there are home equity lines of credit the system here is a bit different the key of course is that real estate prices keep going up'"
            ]
          },
          "metadata": {},
          "execution_count": 19
        }
      ]
    },
    {
      "cell_type": "code",
      "metadata": {
        "id": "hKXcuZscKaYj"
      },
      "source": [
        "X_train, X_test, y_train, y_test = train_test_split(df[\"clean_text\"],df[\"topic\"],test_size=0.2,shuffle=True)"
      ],
      "execution_count": 20,
      "outputs": []
    },
    {
      "cell_type": "code",
      "metadata": {
        "id": "bkJRiV7umrcF"
      },
      "source": [
        "X_train_tok= [nltk.word_tokenize(i) for i in X_train]  \n",
        "X_test_tok= [nltk.word_tokenize(i) for i in X_test]"
      ],
      "execution_count": 21,
      "outputs": []
    },
    {
      "cell_type": "code",
      "metadata": {
        "id": "jE7mk_WzmvhF",
        "colab": {
          "base_uri": "https://localhost:8080/",
          "height": 234
        },
        "outputId": "5950c1a9-23d6-4e73-aa02-dfb94a875034"
      },
      "source": [
        "class MeanEmbeddingVectorizer(object):\n",
        "    def __init__(self, word2vec):\n",
        "        self.word2vec = word2vec\n",
        "        self.dim = len(next(iter(word2vec.values())))\n",
        "\n",
        "def fit(self, X, y):\n",
        "        return self\n",
        "\n",
        "def transform(self, X):\n",
        "        return np.array([\n",
        "            np.mean([self.word2vec[w] for w in words if w in self.word2vec]\n",
        "                    or [np.zeros(self.dim)], axis=0)\n",
        "            for words in X\n",
        "        ])\n",
        "\n",
        "df['clean_text_tok']=[nltk.word_tokenize(i) for i in df['clean_text']]\n",
        "\n",
        "model = Word2Vec(df['clean_text_tok'],min_count=1)     \n",
        "\n",
        "w2v = dict(zip(model.wv.index2word, model.wv.syn0)) \n",
        "\n",
        "modelw = MeanEmbeddingVectorizer(w2v)\n",
        "\n",
        "# convert to numerical data \n",
        "X_train_vectors_w2v = modelw.transform(X_train_tok)\n",
        "X_val_vectors_w2v = modelw.transform(X_test_tok)"
      ],
      "execution_count": 1,
      "outputs": [
        {
          "output_type": "error",
          "ename": "NameError",
          "evalue": "ignored",
          "traceback": [
            "\u001b[0;31m---------------------------------------------------------------------------\u001b[0m",
            "\u001b[0;31mNameError\u001b[0m                                 Traceback (most recent call last)",
            "\u001b[0;32m<ipython-input-1-0b3d63395474>\u001b[0m in \u001b[0;36m<module>\u001b[0;34m()\u001b[0m\n\u001b[1;32m     14\u001b[0m         ])\n\u001b[1;32m     15\u001b[0m \u001b[0;34m\u001b[0m\u001b[0m\n\u001b[0;32m---> 16\u001b[0;31m \u001b[0mdf\u001b[0m\u001b[0;34m[\u001b[0m\u001b[0;34m'clean_text_tok'\u001b[0m\u001b[0;34m]\u001b[0m\u001b[0;34m=\u001b[0m\u001b[0;34m[\u001b[0m\u001b[0mnltk\u001b[0m\u001b[0;34m.\u001b[0m\u001b[0mword_tokenize\u001b[0m\u001b[0;34m(\u001b[0m\u001b[0mi\u001b[0m\u001b[0;34m)\u001b[0m \u001b[0;32mfor\u001b[0m \u001b[0mi\u001b[0m \u001b[0;32min\u001b[0m \u001b[0mdf\u001b[0m\u001b[0;34m[\u001b[0m\u001b[0;34m'clean_text'\u001b[0m\u001b[0;34m]\u001b[0m\u001b[0;34m]\u001b[0m\u001b[0;34m\u001b[0m\u001b[0;34m\u001b[0m\u001b[0m\n\u001b[0m\u001b[1;32m     17\u001b[0m \u001b[0;34m\u001b[0m\u001b[0m\n\u001b[1;32m     18\u001b[0m \u001b[0mmodel\u001b[0m \u001b[0;34m=\u001b[0m \u001b[0mWord2Vec\u001b[0m\u001b[0;34m(\u001b[0m\u001b[0mdf\u001b[0m\u001b[0;34m[\u001b[0m\u001b[0;34m'clean_text_tok'\u001b[0m\u001b[0;34m]\u001b[0m\u001b[0;34m,\u001b[0m\u001b[0mmin_count\u001b[0m\u001b[0;34m=\u001b[0m\u001b[0;36m1\u001b[0m\u001b[0;34m)\u001b[0m\u001b[0;34m\u001b[0m\u001b[0;34m\u001b[0m\u001b[0m\n",
            "\u001b[0;31mNameError\u001b[0m: name 'df' is not defined"
          ]
        }
      ]
    },
    {
      "cell_type": "code",
      "metadata": {
        "id": "E2MsYRcSnJfp"
      },
      "source": [
        "#FITTING THE CLASSIFICATION MODEL using Logistic Regression(tf-idf)\n",
        "lr_tfidf=LogisticRegression(solver = 'liblinear', C=10, penalty = 'l2')\n",
        "lr_tfidf.fit(X_train_vectors_tfidf, y_train)  \n",
        "#Predict y value for test dataset\n",
        "y_predict = lr_tfidf.predict(X_test_vectors_tfidf)\n",
        "y_prob = lr_tfidf.predict_proba(X_test_vectors_tfidf)[:,1]\n",
        "print(classification_report(y_test,y_predict))\n",
        "print('Confusion Matrix:',confusion_matrix(y_test, y_predict))\n",
        " \n",
        "fpr, tpr, thresholds = roc_curve(y_test, y_prob)\n",
        "roc_auc = auc(fpr, tpr)\n",
        "print('AUC:', roc_auc)"
      ],
      "execution_count": null,
      "outputs": []
    },
    {
      "cell_type": "code",
      "metadata": {
        "id": "6Borillcn1kS"
      },
      "source": [
        "#FITTING THE CLASSIFICATION MODEL using Logistic Regression (W2v)\n",
        "lr_w2v=LogisticRegression(solver = 'liblinear', C=10, penalty = 'l2')\n",
        "lr_w2v.fit(X_train_vectors_w2v, y_train)  #model\n",
        "#Predict y value for test dataset\n",
        "y_predict = lr_w2v.predict(X_test_vectors_w2v)\n",
        "y_prob = lr_w2v.predict_proba(X_test_vectors_w2v)[:,1]\n",
        "print(classification_report(y_test,y_predict))\n",
        "print('Confusion Matrix:',confusion_matrix(y_test, y_predict))\n",
        " \n",
        "fpr, tpr, thresholds = roc_curve(y_test, y_prob)\n",
        "roc_auc = auc(fpr, tpr)\n",
        "print('AUC:', roc_auc)"
      ],
      "execution_count": null,
      "outputs": []
    },
    {
      "cell_type": "code",
      "metadata": {
        "id": "7HRxYlEBn5vk"
      },
      "source": [
        "#FITTING THE CLASSIFICATION MODEL using Naive Bayes(tf-idf)\n",
        "nb_tfidf = MultinomialNB()\n",
        "nb_tfidf.fit(X_train_vectors_tfidf, y_train)  \n",
        "#Predict y value for test dataset\n",
        "y_predict = nb_tfidf.predict(X_test_vectors_tfidf)\n",
        "y_prob = nb_tfidf.predict_proba(X_test_vectors_tfidf)[:,1]\n",
        "print(classification_report(y_test,y_predict))\n",
        "print('Confusion Matrix:',confusion_matrix(y_test, y_predict))\n",
        " \n",
        "fpr, tpr, thresholds = roc_curve(y_test, y_prob)\n",
        "roc_auc = auc(fpr, tpr)\n",
        "print('AUC:', roc_auc)"
      ],
      "execution_count": null,
      "outputs": []
    },
    {
      "cell_type": "code",
      "metadata": {
        "id": "rR3GR13Vn9dw"
      },
      "source": [
        ""
      ],
      "execution_count": null,
      "outputs": []
    },
    {
      "cell_type": "code",
      "metadata": {
        "id": "DzXttwf5nJp1"
      },
      "source": [
        ""
      ],
      "execution_count": null,
      "outputs": []
    },
    {
      "cell_type": "code",
      "metadata": {
        "id": "1b1NLoITf5Hl"
      },
      "source": [
        "def data_to_words(comp):\n",
        "    \n",
        "    words = RegexpTokenizer('\\w+').tokenize(comp)\n",
        "    words = [re.sub(r'([xx]+)|([XX]+)|(\\d+)', '', w).lower() for w in words]\n",
        "    words = list(filter(lambda a: a != '', words))\n",
        "    \n",
        "    return words"
      ],
      "execution_count": null,
      "outputs": []
    },
    {
      "cell_type": "code",
      "metadata": {
        "colab": {
          "base_uri": "https://localhost:8080/"
        },
        "id": "wsHi99xGgDZ1",
        "outputId": "dc123885-d5f1-4df3-fb9c-bda067dab73b"
      },
      "source": [
        "df.shape"
      ],
      "execution_count": null,
      "outputs": [
        {
          "data": {
            "text/plain": [
              "(681284, 7)"
            ]
          },
          "execution_count": 6,
          "metadata": {},
          "output_type": "execute_result"
        }
      ]
    },
    {
      "cell_type": "code",
      "metadata": {
        "id": "l25HE4nogE9C"
      },
      "source": [
        "all_words = list()\n",
        "for comp in df['text']:\n",
        "    for w in data_to_words(comp):\n",
        "        all_words.append(w)"
      ],
      "execution_count": null,
      "outputs": []
    },
    {
      "cell_type": "code",
      "metadata": {
        "id": "boH7CqkygJio"
      },
      "source": [
        ""
      ],
      "execution_count": null,
      "outputs": []
    }
  ]
}